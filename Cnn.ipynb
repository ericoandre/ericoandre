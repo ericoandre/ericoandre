{
  "nbformat": 4,
  "nbformat_minor": 0,
  "metadata": {
    "colab": {
      "name": "Untitled2.ipynb",
      "provenance": [],
      "collapsed_sections": [],
      "authorship_tag": "ABX9TyNdITCm9Gkfigyo6Dc5ATzN",
      "include_colab_link": true
    },
    "kernelspec": {
      "name": "python3",
      "display_name": "Python 3"
    },
    "language_info": {
      "name": "python"
    },
    "accelerator": "GPU"
  },
  "cells": [
    {
      "cell_type": "markdown",
      "metadata": {
        "id": "view-in-github",
        "colab_type": "text"
      },
      "source": [
        "<a href=\"https://colab.research.google.com/github/ericoandre/ericoandre/blob/main/Cnn.ipynb\" target=\"_parent\"><img src=\"https://colab.research.google.com/assets/colab-badge.svg\" alt=\"Open In Colab\"/></a>"
      ]
    },
    {
      "cell_type": "code",
      "metadata": {
        "colab": {
          "base_uri": "https://localhost:8080/"
        },
        "id": "Af_HMXxgorlC",
        "outputId": "1806eb41-a763-4d86-9a38-c5c72cd8195e"
      },
      "source": [
        "!git clone https://github.com/ericoandre/reconhecimento_padroes.git"
      ],
      "execution_count": null,
      "outputs": [
        {
          "output_type": "stream",
          "name": "stdout",
          "text": [
            "Cloning into 'reconhecimento_padroes'...\n",
            "remote: Enumerating objects: 3260, done.\u001b[K\n",
            "remote: Counting objects: 100% (11/11), done.\u001b[K\n",
            "remote: Compressing objects: 100% (9/9), done.\u001b[K\n",
            "remote: Total 3260 (delta 6), reused 7 (delta 2), pack-reused 3249\u001b[K\n",
            "Receiving objects: 100% (3260/3260), 1.55 GiB | 35.01 MiB/s, done.\n",
            "Resolving deltas: 100% (16/16), done.\n",
            "Checking out files: 100% (3669/3669), done.\n"
          ]
        }
      ]
    },
    {
      "cell_type": "markdown",
      "metadata": {
        "id": "zvDnNen4pMqa"
      },
      "source": [
        "# Imports"
      ]
    },
    {
      "cell_type": "code",
      "metadata": {
        "id": "T6d2RG6mpJOL"
      },
      "source": [
        "#!/usr/bin/env python\n",
        "# -*- coding: utf-8 -*-\n",
        "\n",
        "import os\n",
        "import numpy as np\n",
        "import pandas as pd\n",
        "from scipy.stats import uniform, randint, expon, loguniform\n",
        "\n",
        "import cv2\n",
        "from imutils import paths\n",
        "\n",
        "import seaborn as sns\n",
        "from matplotlib import pyplot as plt\n",
        "\n",
        "import tensorflow as tf\n",
        "from tensorflow import keras\n",
        "\n",
        "from keras.layers import Dense\n",
        "from keras import backend as K\n",
        "from keras.utils import np_utils\n",
        "from keras.regularizers import l2\n",
        "from tensorflow.keras.optimizers import SGD, Adam\n",
        "from keras.models import Sequential, model_from_json\n",
        "from keras.wrappers.scikit_learn import KerasClassifier\n",
        "from keras.layers.convolutional import Conv2D, MaxPooling2D\n",
        "from keras.layers.core import Activation, Flatten, Dropout, Dense\n",
        "\n",
        "from sklearn.model_selection import train_test_split\n",
        "from sklearn.preprocessing import LabelEncoder, StandardScaler\n",
        "from sklearn.model_selection import cross_val_score, StratifiedKFold, StratifiedShuffleSplit, KFold, RandomizedSearchCV, GridSearchCV\n",
        "from sklearn.metrics import classification_report, confusion_matrix, accuracy_score, precision_score, f1_score, recall_score, precision_recall_curve, auc, roc_curve\n",
        "\n",
        "%matplotlib inline"
      ],
      "execution_count": null,
      "outputs": []
    },
    {
      "cell_type": "markdown",
      "metadata": {
        "id": "xpqBgb03oxYF"
      },
      "source": [
        "# funcoes"
      ]
    },
    {
      "cell_type": "code",
      "metadata": {
        "id": "PcSVvUcdz9hE"
      },
      "source": [
        "def loadDataSet_(arg_dataset, myDepth=1):\n",
        "  print(\"Path\", arg_dataset)\n",
        "  print(\"[INFO] loading images...\")\n",
        "  imagePaths = list(paths.list_images(arg_dataset))\n",
        "  data  = []\n",
        "  label = []\n",
        "  \n",
        "  for imagePath in imagePaths:\n",
        "    target = imagePath.split(os.path.sep)[-2]\n",
        "    image = cv2.imread(imagePath)\n",
        "    if(myDepth == 1):\n",
        "      image = cv2.cvtColor(image, cv2.COLOR_BGR2GRAY)\n",
        "    elif myDepth== 0:\n",
        "      image = np.ravel(cv2.cvtColor(image, cv2.COLOR_BGR2GRAY))\n",
        "\n",
        "    data.append(image)\n",
        "    label.append(target)\n",
        "\n",
        "  data = np.array(data, dtype=\"float\") / 255.0\n",
        "  num_classes = len(list(set(label)))\n",
        "  label_encoder = LabelEncoder()\n",
        "  labels = label_encoder.fit_transform(label)\n",
        "\n",
        "  if 1 <= myDepth <=3:\n",
        "    data = np.array(data).reshape((data.shape[0], data.shape[1], data.shape[2], myDepth))\n",
        "    labels = np_utils.to_categorical(labels, num_classes)\n",
        "\n",
        "  return (np.array(data), np.array(labels), label_encoder)"
      ],
      "execution_count": null,
      "outputs": []
    },
    {
      "cell_type": "code",
      "metadata": {
        "id": "a7Q2wXK5ou17"
      },
      "source": [
        "def modelo_cnn(width, height, depth, optimizer='adam'):\n",
        "  model = Sequential()\n",
        "  \n",
        "  inputShape = (height, width, depth)\n",
        "  if K.image_data_format() == \"channels_first\":\n",
        "    inputShape = (depth, height, width)\n",
        " \n",
        "  model.add(Conv2D(256, (11, 11), input_shape=inputShape, padding=\"same\", kernel_regularizer=l2(0.0002)))\n",
        "  model.add(Activation(\"relu\"))\n",
        "  \n",
        "  model.add(Conv2D(128, (5, 5), padding=\"same\", kernel_regularizer=l2(0.0002)))\n",
        "  model.add(Activation(\"relu\"))\n",
        "  model.add(MaxPooling2D(pool_size=(2, 2)))\n",
        "  model.add(Dropout(0.25))\n",
        "  \n",
        "  model.add(Conv2D(64, (5, 5), padding=\"same\", kernel_regularizer=l2(0.0002)))\n",
        "  model.add(Activation(\"relu\"))\n",
        "  model.add(MaxPooling2D(pool_size=(2, 2)))\n",
        "  model.add(Dropout(0.25))\n",
        "  \n",
        "  model.add(Conv2D(32, (3, 3), padding=\"same\", kernel_regularizer=l2(0.0002)))\n",
        "  model.add(Activation(\"relu\"))\n",
        "  model.add(MaxPooling2D(pool_size=(2, 2)))\n",
        "  model.add(Dropout(0.25))\n",
        "  \n",
        "  model.add(Flatten())\n",
        "  \n",
        "  model.add(Dense(512, kernel_regularizer=l2(0.0002)))\n",
        "  model.add(Activation(\"relu\"))\n",
        "  model.add(Dropout(0.12))\n",
        "  model.add(Dense(len(label_encoder.classes_)))\n",
        "  model.add(Activation(\"softmax\"))\n",
        "\n",
        "  loss = 'binary_crossentropy'\n",
        "  if len(label_encoder.classes_) > 2:\n",
        "    loss = 'categorical_crossentropy'\n",
        "\n",
        "  model.compile(loss=loss, optimizer=optimizer,metrics=[\"accuracy\"])\n",
        "  \n",
        "  return model"
      ],
      "execution_count": null,
      "outputs": []
    },
    {
      "cell_type": "code",
      "metadata": {
        "id": "-s-8qvyKz4rB"
      },
      "source": [
        "def cnn_plot(model_cnn, X_teste, y_teste, description):\n",
        "  y_pred = model_cnn.predict(X_teste)\n",
        "\n",
        "  acuracia = accuracy_score(y_teste.argmax(axis=1), y_pred)\n",
        "  precisao = precision_score(y_teste.argmax(axis=1), y_pred)\n",
        "  cobertura = recall_score(y_teste.argmax(axis=1), y_pred)\n",
        "  f1_armonica = f1_score(y_teste.argmax(axis=1), y_pred)\n",
        "\n",
        "  curva_precisao, curva_cobertura, thresholds = precision_recall_curve(y_teste.argmax(axis=1), y_pred)\n",
        "  auc_precisao_cobertura = auc(curva_cobertura, curva_precisao)\n",
        "\n",
        "  matrix_confusion = confusion_matrix(y_teste.argmax(axis=1), y_pred)\n",
        "  #tn, fp, fn, tp = matrix_confusion.ravel()\n",
        "  fpr, tpr, thresholds = roc_curve(y_teste.argmax(axis=1), y_pred) \n",
        "\n",
        "  #scores_dict[description] = [acuracia,auc_precisao_cobertura, precisao,cobertura,f1_armonica, (tn, fp, fn, tp)]\n",
        "\n",
        "  # imprimindo\n",
        "  print('----- ------------------------- -----')\n",
        "  print(\"Acurácia de teste = {:.3f}\".format(acuracia))\n",
        "  print(\"AUC = {:.3f}\".format(auc_precisao_cobertura))\n",
        "  print(\"Precisão = {:.3f}, cobertura = {:.3f}\".format(precisao, cobertura))\n",
        "  print(\"F1 = {:.3f}\".format(f1_armonica))\n",
        "  print('----- ------------------------- -----')\n",
        "\n",
        "  fig, axes = plt.subplots(1, 3, figsize=(18, 6), sharey=False)\n",
        "  fig.suptitle(description) # \"CNN\"\n",
        "\n",
        "  sns.heatmap(matrix_confusion,annot=True, fmt='g', linewidth=0.3,cbar=True, ax=axes[0]) # ,xticklabels=classes_label, yticklabels=classes_label\n",
        "      \n",
        "  axes[0].annotate('VN', (0.3,0.5), fontweight='bold')\n",
        "  axes[0].annotate('FP', (1.3,0.5), fontweight='bold')\n",
        "  axes[0].annotate('FN', (0.3,1.5), fontweight='bold')\n",
        "  axes[0].annotate('VP', (1.3,1.5), fontweight='bold')\n",
        "\n",
        "  axes[1].plot(curva_cobertura, curva_precisao)\n",
        "  axes[1].set_xlabel('')\n",
        "  axes[1].set_ylabel('')\n",
        "\n",
        "  axes[2].plot(fpr, tpr)\n",
        "  axes[2].plot([0, 1], ls=\"--\")\n",
        "  axes[2].plot([0, 0], [1, 0] , c=\".7\"), plt.plot([1, 1] , c=\".7\")\n",
        "  axes[2].set_xlabel('True Positive Rate')\n",
        "  axes[2].set_ylabel('False Positive Rate')\n",
        "  plt.show()"
      ],
      "execution_count": null,
      "outputs": []
    },
    {
      "cell_type": "markdown",
      "metadata": {
        "id": "IVpTbN6foz1h"
      },
      "source": [
        "# Atributos"
      ]
    },
    {
      "cell_type": "code",
      "metadata": {
        "id": "SfkpjNUJo-1n"
      },
      "source": [
        "sns.set()\n",
        "\n",
        "#Atributos\n",
        "seed = 42\n",
        "largura=200\n",
        "altura=267\n",
        "teste_size=0.3\n",
        "\n",
        "arg_epochs = 20\n",
        "custon_batch_size = 32\n",
        "custon_depth= 3\n",
        "\n",
        "np.random.seed(seed)"
      ],
      "execution_count": null,
      "outputs": []
    },
    {
      "cell_type": "code",
      "metadata": {
        "colab": {
          "base_uri": "https://localhost:8080/"
        },
        "id": "ZLZKSikruf0A",
        "outputId": "d4a7b89f-ed7b-4153-9c23-95ed8234483a"
      },
      "source": [
        "arg_dataset = \"reconhecimento_padroes/imagens_aumentada_mascara{}x{}\".format(largura, altura)\n",
        "X_cnn, Y_cnn, label_encoder = loadDataSet_(arg_dataset, custon_depth)\n",
        "\n",
        "X_treino_cnn, X_teste_cnn, y_treino_cnn, y_teste_cnn = train_test_split(X_cnn, Y_cnn, test_size=teste_size, random_state=seed)"
      ],
      "execution_count": null,
      "outputs": [
        {
          "output_type": "stream",
          "name": "stdout",
          "text": [
            "Path reconhecimento_padroes/imagens_aumentada_mascara200x267\n",
            "[INFO] loading images...\n"
          ]
        }
      ]
    },
    {
      "cell_type": "code",
      "metadata": {
        "colab": {
          "base_uri": "https://localhost:8080/"
        },
        "id": "XOrEi09fo3TM",
        "outputId": "ab84b979-02ef-4298-c56d-a95eea6a8917"
      },
      "source": [
        "my_param_grid = {\n",
        "  'epochs': [10],\n",
        "  'batch_size' : [16, 32],\n",
        "  'optimizer': ['adam', 'gdm']\n",
        "}\n",
        "\n",
        "modelo = KerasClassifier(build_fn=modelo_cnn, width=largura, height=altura, depth=custon_depth, verbose=1)\n",
        "\n",
        "kfold = KFold(n_splits=2, shuffle=True, random_state = seed)\n",
        "\n",
        "griglia = RandomizedSearchCV(estimator=modelo, param_distributions=my_param_grid, cv=kfold, n_iter=3)"
      ],
      "execution_count": null,
      "outputs": [
        {
          "output_type": "stream",
          "name": "stderr",
          "text": [
            "/usr/local/lib/python3.7/dist-packages/ipykernel_launcher.py:6: DeprecationWarning: KerasClassifier is deprecated, use Sci-Keras (https://github.com/adriangb/scikeras) instead.\n",
            "  \n"
          ]
        }
      ]
    },
    {
      "cell_type": "code",
      "metadata": {
        "colab": {
          "base_uri": "https://localhost:8080/",
          "height": 1000
        },
        "id": "fjCOL7eWxnFZ",
        "outputId": "5ba2c6f7-deba-4b0e-ac90-0c220b01ee46"
      },
      "source": [
        "best_model = griglia.fit(X_treino_cnn, y_treino_cnn)\n",
        "\n",
        "pred_yfit = best_model.predict(X_teste_cnn)\n",
        "\n",
        "description = \"CNN\"\n",
        "# print(gaussian_best_model.best_estimator_)\n",
        "print(\"[INFO] {} ... Best params: {}\\n\".format(description, best_model.best_params_))\n",
        "print('----- Evaluation on Test Data -----')\n",
        "print(classification_report(y_teste_cnn.argmax(axis=1), pred_yfit))\n",
        "cnn_plot(best_model, X_teste_cnn, y_teste_cnn, description)"
      ],
      "execution_count": null,
      "outputs": [
        {
          "output_type": "stream",
          "name": "stderr",
          "text": [
            "/usr/local/lib/python3.7/dist-packages/sklearn/model_selection/_search.py:296: UserWarning: The total space of parameters 2 is smaller than n_iter=3. Running 2 iterations. For exhaustive searches, use GridSearchCV.\n",
            "  UserWarning,\n"
          ]
        },
        {
          "output_type": "stream",
          "name": "stdout",
          "text": [
            "Epoch 1/10\n",
            "30/30 [==============================] - 59s 1s/step - loss: 0.9448 - accuracy: 0.5708\n",
            "Epoch 2/10\n",
            "30/30 [==============================] - 30s 1s/step - loss: 0.8559 - accuracy: 0.6875\n",
            "Epoch 3/10\n",
            "30/30 [==============================] - 30s 1s/step - loss: 0.8227 - accuracy: 0.6979\n",
            "Epoch 4/10\n",
            "30/30 [==============================] - 30s 1s/step - loss: 0.6024 - accuracy: 0.8354\n",
            "Epoch 5/10\n",
            "30/30 [==============================] - 30s 1s/step - loss: 0.4559 - accuracy: 0.9125\n",
            "Epoch 6/10\n",
            "30/30 [==============================] - 30s 1s/step - loss: 0.4323 - accuracy: 0.9104\n",
            "Epoch 7/10\n",
            "30/30 [==============================] - 30s 1s/step - loss: 0.3375 - accuracy: 0.9438\n",
            "Epoch 8/10\n",
            "30/30 [==============================] - 30s 1s/step - loss: 0.2908 - accuracy: 0.9667\n",
            "Epoch 9/10\n",
            "30/30 [==============================] - 30s 1s/step - loss: 0.2492 - accuracy: 0.9833\n",
            "Epoch 10/10\n",
            "30/30 [==============================] - 30s 1s/step - loss: 0.2133 - accuracy: 0.9979\n",
            "31/31 [==============================] - 11s 341ms/step - loss: 0.8950 - accuracy: 0.8607\n",
            "Epoch 1/10\n",
            "31/31 [==============================] - 32s 986ms/step - loss: 0.9464 - accuracy: 0.5634\n",
            "Epoch 2/10\n",
            "31/31 [==============================] - 31s 984ms/step - loss: 0.8869 - accuracy: 0.6216\n",
            "Epoch 3/10\n",
            "31/31 [==============================] - 30s 978ms/step - loss: 0.7973 - accuracy: 0.7256\n",
            "Epoch 4/10\n",
            "31/31 [==============================] - 30s 983ms/step - loss: 0.6720 - accuracy: 0.8046\n",
            "Epoch 5/10\n",
            "31/31 [==============================] - 31s 984ms/step - loss: 0.4833 - accuracy: 0.8898\n",
            "Epoch 6/10\n",
            "31/31 [==============================] - 30s 982ms/step - loss: 0.6750 - accuracy: 0.7983\n",
            "Epoch 7/10\n",
            "31/31 [==============================] - 30s 978ms/step - loss: 0.4206 - accuracy: 0.9106\n",
            "Epoch 8/10\n",
            "31/31 [==============================] - 30s 979ms/step - loss: 0.2983 - accuracy: 0.9688\n",
            "Epoch 9/10\n",
            "31/31 [==============================] - 30s 979ms/step - loss: 0.2373 - accuracy: 0.9854\n",
            "Epoch 10/10\n",
            "31/31 [==============================] - 30s 983ms/step - loss: 0.2280 - accuracy: 0.9834\n",
            "30/30 [==============================] - 11s 345ms/step - loss: 0.7108 - accuracy: 0.8833\n",
            "Epoch 1/10\n",
            "15/15 [==============================] - 53s 3s/step - loss: 0.9598 - accuracy: 0.5083\n",
            "Epoch 2/10\n",
            "15/15 [==============================] - 51s 3s/step - loss: 0.9023 - accuracy: 0.6354\n",
            "Epoch 3/10\n",
            "15/15 [==============================] - 51s 3s/step - loss: 0.8080 - accuracy: 0.7083\n",
            "Epoch 4/10\n",
            "15/15 [==============================] - 51s 3s/step - loss: 0.7985 - accuracy: 0.7063\n",
            "Epoch 5/10\n",
            "15/15 [==============================] - 52s 3s/step - loss: 0.6808 - accuracy: 0.8250\n",
            "Epoch 6/10\n",
            "15/15 [==============================] - 52s 3s/step - loss: 0.5205 - accuracy: 0.8917\n",
            "Epoch 7/10\n",
            "15/15 [==============================] - 52s 3s/step - loss: 0.5151 - accuracy: 0.8646\n",
            "Epoch 8/10\n",
            "15/15 [==============================] - 52s 3s/step - loss: 0.5070 - accuracy: 0.8646\n",
            "Epoch 9/10\n",
            "15/15 [==============================] - 52s 3s/step - loss: 0.3835 - accuracy: 0.9354\n",
            "Epoch 10/10\n",
            "15/15 [==============================] - 52s 3s/step - loss: 0.3007 - accuracy: 0.9667\n",
            "16/16 [==============================] - 10s 622ms/step - loss: 0.5932 - accuracy: 0.8649\n",
            "Epoch 1/10\n",
            "16/16 [==============================] - 53s 3s/step - loss: 0.9394 - accuracy: 0.5468\n",
            "Epoch 2/10\n",
            "16/16 [==============================] - 51s 3s/step - loss: 0.8936 - accuracy: 0.6486\n",
            "Epoch 3/10\n",
            "16/16 [==============================] - 51s 3s/step - loss: 0.8772 - accuracy: 0.6570\n",
            "Epoch 4/10\n",
            "16/16 [==============================] - 51s 3s/step - loss: 0.8175 - accuracy: 0.7131\n",
            "Epoch 5/10\n",
            "16/16 [==============================] - 52s 3s/step - loss: 0.7163 - accuracy: 0.7713\n",
            "Epoch 6/10\n",
            "16/16 [==============================] - 52s 3s/step - loss: 0.7207 - accuracy: 0.7651\n",
            "Epoch 7/10\n",
            "16/16 [==============================] - 52s 3s/step - loss: 0.6518 - accuracy: 0.7672\n",
            "Epoch 8/10\n",
            "16/16 [==============================] - 52s 3s/step - loss: 0.4997 - accuracy: 0.8815\n",
            "Epoch 9/10\n",
            "16/16 [==============================] - 52s 3s/step - loss: 0.4067 - accuracy: 0.9335\n",
            "Epoch 10/10\n",
            "16/16 [==============================] - 52s 3s/step - loss: 0.3405 - accuracy: 0.9584\n",
            "15/15 [==============================] - 10s 659ms/step - loss: 0.5862 - accuracy: 0.8792\n",
            "Epoch 1/10\n",
            "61/61 [==============================] - 62s 996ms/step - loss: 0.9272 - accuracy: 0.5640\n",
            "Epoch 2/10\n",
            "61/61 [==============================] - 60s 990ms/step - loss: 0.8768 - accuracy: 0.6379\n",
            "Epoch 3/10\n",
            "61/61 [==============================] - 61s 992ms/step - loss: 0.7500 - accuracy: 0.7357\n",
            "Epoch 4/10\n",
            "61/61 [==============================] - 61s 994ms/step - loss: 0.5428 - accuracy: 0.8491\n",
            "Epoch 5/10\n",
            "61/61 [==============================] - 61s 996ms/step - loss: 0.3826 - accuracy: 0.9178\n",
            "Epoch 6/10\n",
            "61/61 [==============================] - 61s 994ms/step - loss: 0.2925 - accuracy: 0.9532\n",
            "Epoch 7/10\n",
            "61/61 [==============================] - 61s 996ms/step - loss: 0.2083 - accuracy: 0.9781\n",
            "Epoch 8/10\n",
            "61/61 [==============================] - 61s 997ms/step - loss: 0.1981 - accuracy: 0.9813\n",
            "Epoch 9/10\n",
            "61/61 [==============================] - 61s 998ms/step - loss: 0.1617 - accuracy: 0.9969\n",
            "Epoch 10/10\n",
            "61/61 [==============================] - 61s 994ms/step - loss: 0.2923 - accuracy: 0.9532\n",
            "[INFO] CNN ... Best params: {'epochs': 10, 'batch_size': 16}\n",
            "\n",
            "----- Evaluation on Test Data -----\n",
            "              precision    recall  f1-score   support\n",
            "\n",
            "           0       0.92      0.97      0.95       194\n",
            "           1       0.98      0.92      0.95       219\n",
            "\n",
            "    accuracy                           0.95       413\n",
            "   macro avg       0.95      0.95      0.95       413\n",
            "weighted avg       0.95      0.95      0.95       413\n",
            "\n",
            "----- ------------------------- -----\n",
            "Acurácia de teste = 0.947\n",
            "AUC = 0.970\n",
            "Precisão = 0.976, cobertura = 0.922\n",
            "F1 = 0.948\n",
            "----- ------------------------- -----\n"
          ]
        },
        {
          "output_type": "display_data",
          "data": {
            "image/png": "[encoded data removed]",
            "text/plain": [
              "<Figure size 1296x432 with 4 Axes>"
            ]
          },
          "metadata": {
            "needs_background": "light"
          }
        }
      ]
    },
    {
      "cell_type": "code",
      "metadata": {
        "id": "0p3XmjKSLru6"
      },
      "source": [
        "#   optimizer = Adam(learning_rate=1e-4, decay=1e-4 / epochs)"
      ],
      "execution_count": null,
      "outputs": []
    }
  ]
}